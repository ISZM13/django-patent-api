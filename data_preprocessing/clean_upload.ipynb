{
 "cells": [
  {
   "cell_type": "code",
   "execution_count": 1,
   "metadata": {},
   "outputs": [
    {
     "data": {
      "text/html": [
       "<div>\n",
       "<style scoped>\n",
       "    .dataframe tbody tr th:only-of-type {\n",
       "        vertical-align: middle;\n",
       "    }\n",
       "\n",
       "    .dataframe tbody tr th {\n",
       "        vertical-align: top;\n",
       "    }\n",
       "\n",
       "    .dataframe thead th {\n",
       "        text-align: right;\n",
       "    }\n",
       "</style>\n",
       "<table border=\"1\" class=\"dataframe\">\n",
       "  <thead>\n",
       "    <tr style=\"text-align: right;\">\n",
       "      <th></th>\n",
       "      <th>patent_id</th>\n",
       "      <th>title</th>\n",
       "      <th>assignee</th>\n",
       "      <th>author</th>\n",
       "      <th>priority_date</th>\n",
       "      <th>creation_date</th>\n",
       "      <th>publ_date</th>\n",
       "      <th>grant_date</th>\n",
       "      <th>result_link</th>\n",
       "      <th>fig_link</th>\n",
       "    </tr>\n",
       "  </thead>\n",
       "  <tbody>\n",
       "    <tr>\n",
       "      <th>0</th>\n",
       "      <td>US-11074495-B2</td>\n",
       "      <td>System and method for extremely efficient imag...</td>\n",
       "      <td>Z Advanced Computing, Inc. (Zac)</td>\n",
       "      <td>Lotfi A. Zadeh, Saied Tadayon, Bijan Tadayon</td>\n",
       "      <td>28-02-2013</td>\n",
       "      <td>12-03-2018</td>\n",
       "      <td>27-07-2021</td>\n",
       "      <td>27-07-2021</td>\n",
       "      <td>https://patents.google.com/patent/US11074495B2/en</td>\n",
       "      <td>https://patentimages.storage.googleapis.com/32...</td>\n",
       "    </tr>\n",
       "    <tr>\n",
       "      <th>1</th>\n",
       "      <td>AU-2021204774-B2</td>\n",
       "      <td>Security in a smart-sensored home</td>\n",
       "      <td>Google Llc</td>\n",
       "      <td>Anthony M. Fadell, Yoky Matsuoka, Matthew Lee ...</td>\n",
       "      <td>14-03-2013</td>\n",
       "      <td>08-07-2021</td>\n",
       "      <td>10-11-2022</td>\n",
       "      <td>10-11-2022</td>\n",
       "      <td>https://patents.google.com/patent/AU2021204774...</td>\n",
       "      <td>NaN</td>\n",
       "    </tr>\n",
       "    <tr>\n",
       "      <th>2</th>\n",
       "      <td>US-11526167-B1</td>\n",
       "      <td>Autonomous vehicle component maintenance and r...</td>\n",
       "      <td>State Farm Mutual Automobile Insurance Company</td>\n",
       "      <td>Blake Konrardy, Scott T. Christensen, Gregory ...</td>\n",
       "      <td>22-01-2016</td>\n",
       "      <td>20-10-2020</td>\n",
       "      <td>13-12-2022</td>\n",
       "      <td>13-12-2022</td>\n",
       "      <td>https://patents.google.com/patent/US11526167B1/en</td>\n",
       "      <td>https://patentimages.storage.googleapis.com/7b...</td>\n",
       "    </tr>\n",
       "    <tr>\n",
       "      <th>3</th>\n",
       "      <td>US-11238538-B1</td>\n",
       "      <td>Accident risk model determination using autono...</td>\n",
       "      <td>State Farm Mutual Automobile Insurance Company</td>\n",
       "      <td>Blake Konrardy, Scott T. Christensen, Gregory ...</td>\n",
       "      <td>20-05-2014</td>\n",
       "      <td>07-11-2019</td>\n",
       "      <td>01-02-2022</td>\n",
       "      <td>01-02-2022</td>\n",
       "      <td>https://patents.google.com/patent/US11238538B1/en</td>\n",
       "      <td>https://patentimages.storage.googleapis.com/13...</td>\n",
       "    </tr>\n",
       "    <tr>\n",
       "      <th>4</th>\n",
       "      <td>CN-110782870-B</td>\n",
       "      <td>Speech synthesis method, device, electronic eq...</td>\n",
       "      <td>腾讯科技（深圳）有限公司</td>\n",
       "      <td>杨兵, 陈凌辉, 钟佳琪</td>\n",
       "      <td>06-09-2019</td>\n",
       "      <td>06-09-2019</td>\n",
       "      <td>16-06-2023</td>\n",
       "      <td>16-06-2023</td>\n",
       "      <td>https://patents.google.com/patent/CN110782870B/en</td>\n",
       "      <td>https://patentimages.storage.googleapis.com/07...</td>\n",
       "    </tr>\n",
       "  </tbody>\n",
       "</table>\n",
       "</div>"
      ],
      "text/plain": [
       "          patent_id                                              title  \\\n",
       "0    US-11074495-B2  System and method for extremely efficient imag...   \n",
       "1  AU-2021204774-B2                 Security in a smart-sensored home    \n",
       "2    US-11526167-B1  Autonomous vehicle component maintenance and r...   \n",
       "3    US-11238538-B1  Accident risk model determination using autono...   \n",
       "4    CN-110782870-B  Speech synthesis method, device, electronic eq...   \n",
       "\n",
       "                                         assignee  \\\n",
       "0                Z Advanced Computing, Inc. (Zac)   \n",
       "1                                      Google Llc   \n",
       "2  State Farm Mutual Automobile Insurance Company   \n",
       "3  State Farm Mutual Automobile Insurance Company   \n",
       "4                                    腾讯科技（深圳）有限公司   \n",
       "\n",
       "                                              author priority_date  \\\n",
       "0       Lotfi A. Zadeh, Saied Tadayon, Bijan Tadayon    28-02-2013   \n",
       "1  Anthony M. Fadell, Yoky Matsuoka, Matthew Lee ...    14-03-2013   \n",
       "2  Blake Konrardy, Scott T. Christensen, Gregory ...    22-01-2016   \n",
       "3  Blake Konrardy, Scott T. Christensen, Gregory ...    20-05-2014   \n",
       "4                                       杨兵, 陈凌辉, 钟佳琪    06-09-2019   \n",
       "\n",
       "  creation_date   publ_date  grant_date  \\\n",
       "0    12-03-2018  27-07-2021  27-07-2021   \n",
       "1    08-07-2021  10-11-2022  10-11-2022   \n",
       "2    20-10-2020  13-12-2022  13-12-2022   \n",
       "3    07-11-2019  01-02-2022  01-02-2022   \n",
       "4    06-09-2019  16-06-2023  16-06-2023   \n",
       "\n",
       "                                         result_link  \\\n",
       "0  https://patents.google.com/patent/US11074495B2/en   \n",
       "1  https://patents.google.com/patent/AU2021204774...   \n",
       "2  https://patents.google.com/patent/US11526167B1/en   \n",
       "3  https://patents.google.com/patent/US11238538B1/en   \n",
       "4  https://patents.google.com/patent/CN110782870B/en   \n",
       "\n",
       "                                            fig_link  \n",
       "0  https://patentimages.storage.googleapis.com/32...  \n",
       "1                                                NaN  \n",
       "2  https://patentimages.storage.googleapis.com/7b...  \n",
       "3  https://patentimages.storage.googleapis.com/13...  \n",
       "4  https://patentimages.storage.googleapis.com/07...  "
      ]
     },
     "execution_count": 1,
     "metadata": {},
     "output_type": "execute_result"
    }
   ],
   "source": [
    "import pandas as pd\n",
    "import numpy as np\n",
    "\n",
    "# Load the dataset\n",
    "df = pd.read_csv(\"../dataset/dataset.csv\")\n",
    "\n",
    "# Display the first few rows of the dataset\n",
    "df.head()\n"
   ]
  },
  {
   "cell_type": "code",
   "execution_count": 2,
   "metadata": {},
   "outputs": [
    {
     "name": "stdout",
     "output_type": "stream",
     "text": [
      "Missing values per column:\n",
      " patent_id           0\n",
      "title               0\n",
      "assignee            3\n",
      "author             11\n",
      "priority_date       3\n",
      "creation_date       2\n",
      "publ_date           0\n",
      "grant_date       3783\n",
      "result_link         0\n",
      "fig_link         2745\n",
      "dtype: int64\n",
      "<class 'pandas.core.frame.DataFrame'>\n",
      "Index: 21692 entries, 0 to 21694\n",
      "Data columns (total 10 columns):\n",
      " #   Column         Non-Null Count  Dtype         \n",
      "---  ------         --------------  -----         \n",
      " 0   patent_id      21692 non-null  object        \n",
      " 1   title          21692 non-null  object        \n",
      " 2   assignee       21692 non-null  object        \n",
      " 3   author         21684 non-null  object        \n",
      " 4   priority_date  21692 non-null  datetime64[ns]\n",
      " 5   creation_date  7543 non-null   datetime64[ns]\n",
      " 6   publ_date      21692 non-null  datetime64[ns]\n",
      " 7   grant_date     17912 non-null  datetime64[ns]\n",
      " 8   result_link    21692 non-null  object        \n",
      " 9   fig_link       18950 non-null  object        \n",
      "dtypes: datetime64[ns](4), object(6)\n",
      "memory usage: 1.8+ MB\n"
     ]
    },
    {
     "name": "stderr",
     "output_type": "stream",
     "text": [
      "C:\\Users\\ishtv\\AppData\\Local\\Temp\\ipykernel_38396\\1088736486.py:10: UserWarning: Parsing dates in %d-%m-%Y format when dayfirst=False (the default) was specified. Pass `dayfirst=True` or specify a format to silence this warning.\n",
      "  df[col] = pd.to_datetime(df[col], errors='coerce')\n",
      "C:\\Users\\ishtv\\AppData\\Local\\Temp\\ipykernel_38396\\1088736486.py:10: UserWarning: Parsing dates in %d-%m-%Y format when dayfirst=False (the default) was specified. Pass `dayfirst=True` or specify a format to silence this warning.\n",
      "  df[col] = pd.to_datetime(df[col], errors='coerce')\n",
      "C:\\Users\\ishtv\\AppData\\Local\\Temp\\ipykernel_38396\\1088736486.py:10: UserWarning: Parsing dates in %d-%m-%Y format when dayfirst=False (the default) was specified. Pass `dayfirst=True` or specify a format to silence this warning.\n",
      "  df[col] = pd.to_datetime(df[col], errors='coerce')\n"
     ]
    }
   ],
   "source": [
    "# Check for missing values\n",
    "print(\"Missing values per column:\\n\", df.isnull().sum())\n",
    "\n",
    "# Drop rows where critical fields are missing\n",
    "df.dropna(subset=['patent_id', 'title', 'assignee'], inplace=True)\n",
    "\n",
    "# Convert date columns to datetime format\n",
    "date_columns = ['priority_date', 'creation_date', 'publ_date', 'grant_date']\n",
    "for col in date_columns:\n",
    "    df[col] = pd.to_datetime(df[col], errors='coerce')\n",
    "\n",
    "# Remove duplicates based on 'patent_id'\n",
    "df.drop_duplicates(subset='patent_id', inplace=True)\n",
    "\n",
    "# Display cleaned data overview\n",
    "df.info()\n"
   ]
  },
  {
   "cell_type": "code",
   "execution_count": 3,
   "metadata": {},
   "outputs": [
    {
     "data": {
      "text/plain": [
       "(21692, 10)"
      ]
     },
     "execution_count": 3,
     "metadata": {},
     "output_type": "execute_result"
    }
   ],
   "source": [
    "df.shape"
   ]
  },
  {
   "cell_type": "code",
   "execution_count": 4,
   "metadata": {},
   "outputs": [
    {
     "name": "stdout",
     "output_type": "stream",
     "text": [
      "Unique values in assignee column:\n",
      " ['Z Advanced Computing, Inc. (Zac)' 'Google Llc'\n",
      " 'State Farm Mutual Automobile Insurance Company' ...\n",
      " 'Konink Ptt Nederland Nv, Bell Communications Res' '엘단 엘리, 코그니텐즈 리미티드'\n",
      " '独立行政法人科学技術振興機構']\n"
     ]
    }
   ],
   "source": [
    "# Example of data type validation\n",
    "assert df['patent_id'].dtype == 'object', \"patent_id should be a string\"\n",
    "assert df['assignee'].dtype == 'object', \"assignee should be a string\"\n",
    "\n",
    "# Check for invalid or unexpected values in numerical and categorical fields\n",
    "print(\"Unique values in assignee column:\\n\", df['assignee'].unique())\n"
   ]
  },
  {
   "cell_type": "code",
   "execution_count": 5,
   "metadata": {},
   "outputs": [
    {
     "name": "stdout",
     "output_type": "stream",
     "text": [
      "                patent_id country_code  \\\n",
      "0          US-11074495-B2           US   \n",
      "1        AU-2021204774-B2           AU   \n",
      "2          US-11526167-B1           US   \n",
      "3          US-11238538-B1           US   \n",
      "4          CN-110782870-B           CN   \n",
      "...                   ...          ...   \n",
      "21690       ES-2304394-T3           ES   \n",
      "21691      CN-100356369-C           CN   \n",
      "21692    KR-19990008059-A           KR   \n",
      "21693     JP-2002529820-A           JP   \n",
      "21694  JP-WO2005046942-A1           JP   \n",
      "\n",
      "                                                   title  \\\n",
      "0      System and method for extremely efficient imag...   \n",
      "1                     Security in a smart-sensored home    \n",
      "2      Autonomous vehicle component maintenance and r...   \n",
      "3      Accident risk model determination using autono...   \n",
      "4      Speech synthesis method, device, electronic eq...   \n",
      "...                                                  ...   \n",
      "21690  Dispositivo para la prediccion de eventos hipo...   \n",
      "21691                                用于检测图像中的特定对象的方法和系统    \n",
      "21692      3차원 물체의 2차원 영사에 근거한 3차원 물체의 재생, 운용 방법 및 그 장치    \n",
      "21693                                           通信処理用装置    \n",
      "21694                                         ロボットの駆動方法    \n",
      "\n",
      "                                             assignee  \\\n",
      "0                    Z Advanced Computing, Inc. (Zac)   \n",
      "1                                          Google Llc   \n",
      "2      State Farm Mutual Automobile Insurance Company   \n",
      "3      State Farm Mutual Automobile Insurance Company   \n",
      "4                                        腾讯科技（深圳）有限公司   \n",
      "...                                               ...   \n",
      "21690                         Animas Technologies Llc   \n",
      "21691                                        三菱电机株式会社   \n",
      "21692                               엘단 엘리, 코그니텐즈 리미티드   \n",
      "21693          ブリティッシュ・テレコミュニケーションズ・パブリック・リミテッド・カンパニー   \n",
      "21694                                  独立行政法人科学技術振興機構   \n",
      "\n",
      "                                                  author priority_date  \\\n",
      "0           Lotfi A. Zadeh, Saied Tadayon, Bijan Tadayon    2013-02-28   \n",
      "1      Anthony M. Fadell, Yoky Matsuoka, Matthew Lee ...    2013-03-14   \n",
      "2      Blake Konrardy, Scott T. Christensen, Gregory ...    2016-01-22   \n",
      "3      Blake Konrardy, Scott T. Christensen, Gregory ...    2014-05-20   \n",
      "4                                           杨兵, 陈凌辉, 钟佳琪    2019-09-06   \n",
      "...                                                  ...           ...   \n",
      "21690               Russell O. Potts, Michael J. Tierney    2000-08-18   \n",
      "21691                                 迈克尔·J·琼斯, 保罗·A·维奥拉    2003-06-17   \n",
      "21692                                             암논 샤슈아    1995-04-25   \n",
      "21693  アズバイン、ベンハム, ジアン、ダビッド・フィリップ, ツイ、クォク・チン, ウォブッケ、ウ...    1998-11-03   \n",
      "21694                           聖 星野, 聖 星野, 貴頌 谷本, 貴頌 谷本    2003-11-13   \n",
      "\n",
      "      creation_date  publ_date grant_date  \\\n",
      "0        2018-12-03 2021-07-27 2021-07-27   \n",
      "1        2021-08-07 2022-11-10 2022-11-10   \n",
      "2               NaT 2022-12-13 2022-12-13   \n",
      "3        2019-07-11 2022-02-01 2022-02-01   \n",
      "4        2019-06-09 2023-06-16 2023-06-16   \n",
      "...             ...        ...        ...   \n",
      "21690    2001-10-08 2008-10-16 2008-10-16   \n",
      "21691    2004-11-06 2007-12-19 2007-12-19   \n",
      "21692           NaT 1999-01-25        NaT   \n",
      "21693    1999-02-11 2002-09-10        NaT   \n",
      "21694           NaT 2007-08-23        NaT   \n",
      "\n",
      "                                             result_link  \\\n",
      "0      https://patents.google.com/patent/US11074495B2/en   \n",
      "1      https://patents.google.com/patent/AU2021204774...   \n",
      "2      https://patents.google.com/patent/US11526167B1/en   \n",
      "3      https://patents.google.com/patent/US11238538B1/en   \n",
      "4      https://patents.google.com/patent/CN110782870B/en   \n",
      "...                                                  ...   \n",
      "21690   https://patents.google.com/patent/ES2304394T3/es   \n",
      "21691  https://patents.google.com/patent/CN100356369C/zh   \n",
      "21692  https://patents.google.com/patent/KR1999000805...   \n",
      "21693  https://patents.google.com/patent/JP2002529820...   \n",
      "21694  https://patents.google.com/patent/JPWO20050469...   \n",
      "\n",
      "                                                fig_link  \n",
      "0      https://patentimages.storage.googleapis.com/32...  \n",
      "1                                                    NaN  \n",
      "2      https://patentimages.storage.googleapis.com/7b...  \n",
      "3      https://patentimages.storage.googleapis.com/13...  \n",
      "4      https://patentimages.storage.googleapis.com/07...  \n",
      "...                                                  ...  \n",
      "21690                                                NaN  \n",
      "21691  https://patentimages.storage.googleapis.com/e1...  \n",
      "21692                                                NaN  \n",
      "21693                                                NaN  \n",
      "21694  https://patentimages.storage.googleapis.com/90...  \n",
      "\n",
      "[21692 rows x 11 columns]\n"
     ]
    },
    {
     "data": {
      "text/html": [
       "<div>\n",
       "<style scoped>\n",
       "    .dataframe tbody tr th:only-of-type {\n",
       "        vertical-align: middle;\n",
       "    }\n",
       "\n",
       "    .dataframe tbody tr th {\n",
       "        vertical-align: top;\n",
       "    }\n",
       "\n",
       "    .dataframe thead th {\n",
       "        text-align: right;\n",
       "    }\n",
       "</style>\n",
       "<table border=\"1\" class=\"dataframe\">\n",
       "  <thead>\n",
       "    <tr style=\"text-align: right;\">\n",
       "      <th></th>\n",
       "      <th>patent_id</th>\n",
       "      <th>country_code</th>\n",
       "      <th>title</th>\n",
       "      <th>assignee</th>\n",
       "      <th>author</th>\n",
       "      <th>priority_date</th>\n",
       "      <th>creation_date</th>\n",
       "      <th>publ_date</th>\n",
       "      <th>grant_date</th>\n",
       "      <th>result_link</th>\n",
       "      <th>fig_link</th>\n",
       "    </tr>\n",
       "  </thead>\n",
       "  <tbody>\n",
       "    <tr>\n",
       "      <th>0</th>\n",
       "      <td>US-11074495-B2</td>\n",
       "      <td>US</td>\n",
       "      <td>System and method for extremely efficient imag...</td>\n",
       "      <td>Z Advanced Computing, Inc. (Zac)</td>\n",
       "      <td>Lotfi A. Zadeh, Saied Tadayon, Bijan Tadayon</td>\n",
       "      <td>2013-02-28</td>\n",
       "      <td>2018-12-03</td>\n",
       "      <td>2021-07-27</td>\n",
       "      <td>2021-07-27</td>\n",
       "      <td>https://patents.google.com/patent/US11074495B2/en</td>\n",
       "      <td>https://patentimages.storage.googleapis.com/32...</td>\n",
       "    </tr>\n",
       "    <tr>\n",
       "      <th>1</th>\n",
       "      <td>AU-2021204774-B2</td>\n",
       "      <td>AU</td>\n",
       "      <td>Security in a smart-sensored home</td>\n",
       "      <td>Google Llc</td>\n",
       "      <td>Anthony M. Fadell, Yoky Matsuoka, Matthew Lee ...</td>\n",
       "      <td>2013-03-14</td>\n",
       "      <td>2021-08-07</td>\n",
       "      <td>2022-11-10</td>\n",
       "      <td>2022-11-10</td>\n",
       "      <td>https://patents.google.com/patent/AU2021204774...</td>\n",
       "      <td>NaN</td>\n",
       "    </tr>\n",
       "    <tr>\n",
       "      <th>2</th>\n",
       "      <td>US-11526167-B1</td>\n",
       "      <td>US</td>\n",
       "      <td>Autonomous vehicle component maintenance and r...</td>\n",
       "      <td>State Farm Mutual Automobile Insurance Company</td>\n",
       "      <td>Blake Konrardy, Scott T. Christensen, Gregory ...</td>\n",
       "      <td>2016-01-22</td>\n",
       "      <td>NaT</td>\n",
       "      <td>2022-12-13</td>\n",
       "      <td>2022-12-13</td>\n",
       "      <td>https://patents.google.com/patent/US11526167B1/en</td>\n",
       "      <td>https://patentimages.storage.googleapis.com/7b...</td>\n",
       "    </tr>\n",
       "    <tr>\n",
       "      <th>3</th>\n",
       "      <td>US-11238538-B1</td>\n",
       "      <td>US</td>\n",
       "      <td>Accident risk model determination using autono...</td>\n",
       "      <td>State Farm Mutual Automobile Insurance Company</td>\n",
       "      <td>Blake Konrardy, Scott T. Christensen, Gregory ...</td>\n",
       "      <td>2014-05-20</td>\n",
       "      <td>2019-07-11</td>\n",
       "      <td>2022-02-01</td>\n",
       "      <td>2022-02-01</td>\n",
       "      <td>https://patents.google.com/patent/US11238538B1/en</td>\n",
       "      <td>https://patentimages.storage.googleapis.com/13...</td>\n",
       "    </tr>\n",
       "    <tr>\n",
       "      <th>4</th>\n",
       "      <td>CN-110782870-B</td>\n",
       "      <td>CN</td>\n",
       "      <td>Speech synthesis method, device, electronic eq...</td>\n",
       "      <td>腾讯科技（深圳）有限公司</td>\n",
       "      <td>杨兵, 陈凌辉, 钟佳琪</td>\n",
       "      <td>2019-09-06</td>\n",
       "      <td>2019-06-09</td>\n",
       "      <td>2023-06-16</td>\n",
       "      <td>2023-06-16</td>\n",
       "      <td>https://patents.google.com/patent/CN110782870B/en</td>\n",
       "      <td>https://patentimages.storage.googleapis.com/07...</td>\n",
       "    </tr>\n",
       "  </tbody>\n",
       "</table>\n",
       "</div>"
      ],
      "text/plain": [
       "          patent_id country_code  \\\n",
       "0    US-11074495-B2           US   \n",
       "1  AU-2021204774-B2           AU   \n",
       "2    US-11526167-B1           US   \n",
       "3    US-11238538-B1           US   \n",
       "4    CN-110782870-B           CN   \n",
       "\n",
       "                                               title  \\\n",
       "0  System and method for extremely efficient imag...   \n",
       "1                 Security in a smart-sensored home    \n",
       "2  Autonomous vehicle component maintenance and r...   \n",
       "3  Accident risk model determination using autono...   \n",
       "4  Speech synthesis method, device, electronic eq...   \n",
       "\n",
       "                                         assignee  \\\n",
       "0                Z Advanced Computing, Inc. (Zac)   \n",
       "1                                      Google Llc   \n",
       "2  State Farm Mutual Automobile Insurance Company   \n",
       "3  State Farm Mutual Automobile Insurance Company   \n",
       "4                                    腾讯科技（深圳）有限公司   \n",
       "\n",
       "                                              author priority_date  \\\n",
       "0       Lotfi A. Zadeh, Saied Tadayon, Bijan Tadayon    2013-02-28   \n",
       "1  Anthony M. Fadell, Yoky Matsuoka, Matthew Lee ...    2013-03-14   \n",
       "2  Blake Konrardy, Scott T. Christensen, Gregory ...    2016-01-22   \n",
       "3  Blake Konrardy, Scott T. Christensen, Gregory ...    2014-05-20   \n",
       "4                                       杨兵, 陈凌辉, 钟佳琪    2019-09-06   \n",
       "\n",
       "  creation_date  publ_date grant_date  \\\n",
       "0    2018-12-03 2021-07-27 2021-07-27   \n",
       "1    2021-08-07 2022-11-10 2022-11-10   \n",
       "2           NaT 2022-12-13 2022-12-13   \n",
       "3    2019-07-11 2022-02-01 2022-02-01   \n",
       "4    2019-06-09 2023-06-16 2023-06-16   \n",
       "\n",
       "                                         result_link  \\\n",
       "0  https://patents.google.com/patent/US11074495B2/en   \n",
       "1  https://patents.google.com/patent/AU2021204774...   \n",
       "2  https://patents.google.com/patent/US11526167B1/en   \n",
       "3  https://patents.google.com/patent/US11238538B1/en   \n",
       "4  https://patents.google.com/patent/CN110782870B/en   \n",
       "\n",
       "                                            fig_link  \n",
       "0  https://patentimages.storage.googleapis.com/32...  \n",
       "1                                                NaN  \n",
       "2  https://patentimages.storage.googleapis.com/7b...  \n",
       "3  https://patentimages.storage.googleapis.com/13...  \n",
       "4  https://patentimages.storage.googleapis.com/07...  "
      ]
     },
     "execution_count": 5,
     "metadata": {},
     "output_type": "execute_result"
    }
   ],
   "source": [
    "# Extract country code and add as new column after 'patent_id'\n",
    "df.insert(1, 'country_code', df['patent_id'].str.split('-').str[0])\n",
    "\n",
    "# Display the updated DataFrame\n",
    "print(df)\n",
    "df.head()"
   ]
  },
  {
   "cell_type": "code",
   "execution_count": 19,
   "metadata": {},
   "outputs": [
    {
     "name": "stdout",
     "output_type": "stream",
     "text": [
      "Non-compliant Country Codes:\n",
      "Empty DataFrame\n",
      "Columns: [patent_id, country_code]\n",
      "Index: []\n"
     ]
    }
   ],
   "source": [
    "# Filter to check if country_code contains exactly 2 uppercase letters\n",
    "non_compliant_codes = df[~df['country_code'].str.match(r'^[A-Z]{2}$')]\n",
    "\n",
    "# Display records that don't follow the two-letter country code convention\n",
    "print(\"Non-compliant Country Codes:\")\n",
    "print(non_compliant_codes[['patent_id', 'country_code']])"
   ]
  },
  {
   "cell_type": "code",
   "execution_count": 6,
   "metadata": {},
   "outputs": [
    {
     "name": "stdout",
     "output_type": "stream",
     "text": [
      "Numerical Summary Statistics:\n",
      "                        priority_date                  creation_date  \\\n",
      "count                          21692                           7543   \n",
      "mean   2017-08-29 11:03:34.420062720  2019-05-13 07:24:37.131115008   \n",
      "min              1985-11-27 00:00:00            1987-04-11 00:00:00   \n",
      "25%              2016-12-20 00:00:00            2018-06-02 00:00:00   \n",
      "50%              2018-06-04 00:00:00            2019-08-11 00:00:00   \n",
      "75%              2019-08-06 00:00:00            2020-11-01 12:00:00   \n",
      "max              2024-03-29 00:00:00            2024-12-06 00:00:00   \n",
      "\n",
      "                           publ_date                     grant_date  \n",
      "count                          21692                          17912  \n",
      "mean   2021-08-28 09:40:23.676931840  2021-11-20 20:37:48.691379968  \n",
      "min              1989-02-07 00:00:00            1989-02-07 00:00:00  \n",
      "25%              2020-10-06 00:00:00            2020-11-10 00:00:00  \n",
      "50%              2022-01-18 00:00:00            2022-03-22 00:00:00  \n",
      "75%              2023-05-27 00:00:00            2023-07-11 00:00:00  \n",
      "max              2024-10-23 00:00:00            2024-10-23 00:00:00  \n",
      "priority_date - Min Date: 1985-11-27 00:00:00 | Max Date: 2024-03-29 00:00:00\n",
      "creation_date - Min Date: 1987-04-11 00:00:00 | Max Date: 2024-12-06 00:00:00\n",
      "publ_date - Min Date: 1989-02-07 00:00:00 | Max Date: 2024-10-23 00:00:00\n",
      "grant_date - Min Date: 1989-02-07 00:00:00 | Max Date: 2024-10-23 00:00:00\n"
     ]
    }
   ],
   "source": [
    "# Generate summary statistics for numerical columns\n",
    "numerical_summary = df.describe()\n",
    "print(\"Numerical Summary Statistics:\\n\", numerical_summary)\n",
    "\n",
    "for col in date_columns:\n",
    "    print(f\"{col} - Min Date:\", df[col].min(), \"| Max Date:\", df[col].max())\n"
   ]
  },
  {
   "cell_type": "code",
   "execution_count": 18,
   "metadata": {},
   "outputs": [
    {
     "name": "stdout",
     "output_type": "stream",
     "text": [
      "Top 10 Assignees:\n",
      " assignee\n",
      "腾讯科技（深圳）有限公司                                   642\n",
      "Samsung Electronics Co., Ltd.                  594\n",
      "At&T Intellectual Property I, L.P.             417\n",
      "International Business Machines Corporation    392\n",
      "Intel Corporation                              391\n",
      "平安科技（深圳）有限公司                                   293\n",
      "Lg Electronics Inc.                            271\n",
      "엘지전자 주식회사                                      186\n",
      "Amazon Technologies, Inc.                      185\n",
      "Microsoft Technology Licensing, Llc            180\n",
      "Name: count, dtype: int64\n",
      "\n",
      "\n",
      "Top 10 Authors:\n",
      " author\n",
      "Steven Mason, Daniel Posnack, Peter Arn, Wendy Para, S. Adam Hacking, Micheal Mueller, Joseph GUANERI, Jonathan Greene    22\n",
      "不公告发明人                                                                                                                    22\n",
      "Tony M. Brewer                                                                                                            22\n",
      "Yasushi Shigeta                                                                                                           18\n",
      "Paul Shala Henry, Giovanni Vannucci, Thomas M. Willis, III                                                                17\n",
      "Paul Shala Henry, Robert Bennett, Irwin Gerszberg, Farhad Barzegar, Donald J. Barnickel, Thomas M. Willis, III            14\n",
      "Blake Konrardy, Scott T. Christensen, Gregory Hayward, Scott Farris                                                       14\n",
      "Akli Adjaoute                                                                                                             13\n",
      "Steven Mason                                                                                                              13\n",
      "Boris Galitsky                                                                                                            13\n",
      "Name: count, dtype: int64\n",
      "\n",
      "\n",
      "Top 10 Countries:\n",
      " country_code\n",
      "US    12189\n",
      "CN     6108\n",
      "KR      763\n",
      "JP      720\n",
      "WO      698\n",
      "EP      661\n",
      "AU      188\n",
      "TW      154\n",
      "CA       69\n",
      "DE       66\n",
      "Name: count, dtype: int64\n"
     ]
    }
   ],
   "source": [
    "# Frequency counts for categorical columns\n",
    "assignee_counts = df['assignee'].value_counts()\n",
    "author_counts = df['author'].value_counts()\n",
    "country_code_counts = df['country_code'].value_counts()\n",
    "\n",
    "print(\"Top 10 Assignees:\\n\", assignee_counts.head(10))\n",
    "print(\"\\n\\nTop 10 Authors:\\n\", author_counts.head(10))\n",
    "print(\"\\n\\nTop 10 Countries:\\n\", country_code_counts.head(10))\n"
   ]
  },
  {
   "cell_type": "code",
   "execution_count": 8,
   "metadata": {},
   "outputs": [],
   "source": [
    "import matplotlib.pyplot as plt\n"
   ]
  },
  {
   "cell_type": "code",
   "execution_count": 9,
   "metadata": {},
   "outputs": [
    {
     "data": {
      "image/png": "[encoded data removed]",
      "text/plain": [
       "<Figure size 1200x800 with 4 Axes>"
      ]
     },
     "metadata": {},
     "output_type": "display_data"
    }
   ],
   "source": [
    "# Histogram for each date column\n",
    "date_columns = ['priority_date', 'creation_date', 'publ_date', 'grant_date']\n",
    "\n",
    "plt.figure(figsize=(12, 8))\n",
    "for i, col in enumerate(date_columns, start=1):\n",
    "    plt.subplot(2, 2, i)\n",
    "    df[col].dropna().apply(lambda x: x.year).plot(kind='hist', bins=30, color='skyblue')\n",
    "    plt.title(f'Distribution of {col.replace(\"_\", \" \").title()}')\n",
    "    plt.xlabel('Year')\n",
    "    plt.ylabel('Frequency')\n",
    "\n",
    "plt.tight_layout()\n",
    "plt.show()\n"
   ]
  },
  {
   "cell_type": "code",
   "execution_count": 20,
   "metadata": {},
   "outputs": [
    {
     "data": {
      "image/png": "[encoded data removed]",
      "text/plain": [
       "<Figure size 1000x600 with 1 Axes>"
      ]
     },
     "metadata": {},
     "output_type": "display_data"
    }
   ],
   "source": [
    "# Get the top 7 most common country codes\n",
    "top_countries = df['country_code'].value_counts().head(7)\n",
    "\n",
    "# Plotting the frequency count distribution of the top 7 countries\n",
    "plt.figure(figsize=(10, 6))\n",
    "plt.bar(top_countries.index, top_countries.values, color='skyblue')\n",
    "plt.xlabel('Country Code')\n",
    "plt.ylabel('Frequency')\n",
    "plt.title('Top 7 Country Codes Distribution')\n",
    "plt.show()"
   ]
  },
  {
   "cell_type": "code",
   "execution_count": 11,
   "metadata": {},
   "outputs": [
    {
     "data": {
      "image/png": "[encoded data removed]",
      "text/plain": [
       "<Figure size 1000x600 with 1 Axes>"
      ]
     },
     "metadata": {},
     "output_type": "display_data"
    }
   ],
   "source": [
    "plt.figure(figsize=(10, 6))\n",
    "df['publ_date'].dropna().apply(lambda x: x.year).plot(kind='hist', bins=30, color='lightblue')\n",
    "plt.title('Distribution of Publication Years')\n",
    "plt.xlabel('Publication Year')\n",
    "plt.ylabel('Frequency')\n",
    "plt.show()\n"
   ]
  },
  {
   "cell_type": "code",
   "execution_count": 22,
   "metadata": {},
   "outputs": [
    {
     "name": "stdout",
     "output_type": "stream",
     "text": [
      "Requirement already satisfied: pandas in c:\\users\\ishtv\\appdata\\local\\programs\\python\\python312\\lib\\site-packages (2.2.2)\n",
      "Requirement already satisfied: sqlalchemy in c:\\users\\ishtv\\appdata\\local\\programs\\python\\python312\\lib\\site-packages (2.0.32)\n",
      "Requirement already satisfied: psycopg2 in c:\\users\\ishtv\\appdata\\local\\programs\\python\\python312\\lib\\site-packages (2.9.10)\n",
      "Requirement already satisfied: numpy>=1.26.0 in c:\\users\\ishtv\\appdata\\local\\programs\\python\\python312\\lib\\site-packages (from pandas) (2.1.1)\n",
      "Requirement already satisfied: python-dateutil>=2.8.2 in c:\\users\\ishtv\\appdata\\local\\programs\\python\\python312\\lib\\site-packages (from pandas) (2.9.0.post0)\n",
      "Requirement already satisfied: pytz>=2020.1 in c:\\users\\ishtv\\appdata\\local\\programs\\python\\python312\\lib\\site-packages (from pandas) (2024.1)\n",
      "Requirement already satisfied: tzdata>=2022.7 in c:\\users\\ishtv\\appdata\\local\\programs\\python\\python312\\lib\\site-packages (from pandas) (2024.1)\n",
      "Requirement already satisfied: typing-extensions>=4.6.0 in c:\\users\\ishtv\\appdata\\local\\programs\\python\\python312\\lib\\site-packages (from sqlalchemy) (4.12.2)\n",
      "Requirement already satisfied: greenlet!=0.4.17 in c:\\users\\ishtv\\appdata\\local\\programs\\python\\python312\\lib\\site-packages (from sqlalchemy) (3.0.3)\n",
      "Requirement already satisfied: six>=1.5 in c:\\users\\ishtv\\appdata\\local\\programs\\python\\python312\\lib\\site-packages (from python-dateutil>=2.8.2->pandas) (1.16.0)\n",
      "Note: you may need to restart the kernel to use updated packages.\n"
     ]
    }
   ],
   "source": [
    "%pip install pandas sqlalchemy psycopg2\n"
   ]
  },
  {
   "cell_type": "code",
   "execution_count": 25,
   "metadata": {},
   "outputs": [],
   "source": [
    "from sqlalchemy import create_engine\n",
    "\n",
    "username = 'postgres'\n",
    "password = 'sukhreen'\n",
    "host = 'localhost'\n",
    "port = '5432'\n",
    "database = 'patent_data'\n",
    "\n",
    "# Create an SQLAlchemy engine\n",
    "engine = create_engine(f'postgresql+psycopg2://{username}:{password}@{host}:{port}/{database}')\n"
   ]
  },
  {
   "cell_type": "code",
   "execution_count": 26,
   "metadata": {},
   "outputs": [
    {
     "data": {
      "text/plain": [
       "692"
      ]
     },
     "execution_count": 26,
     "metadata": {},
     "output_type": "execute_result"
    }
   ],
   "source": [
    "# Upload the DataFrame to PostgreSQL\n",
    "df.to_sql('patent_data', con=engine, if_exists='replace', index=False)\n"
   ]
  }
 ],
 "metadata": {
  "kernelspec": {
   "display_name": "Python 3",
   "language": "python",
   "name": "python3"
  },
  "language_info": {
   "codemirror_mode": {
    "name": "ipython",
    "version": 3
   },
   "file_extension": ".py",
   "mimetype": "text/x-python",
   "name": "python",
   "nbconvert_exporter": "python",
   "pygments_lexer": "ipython3",
   "version": "3.12.4"
  }
 },
 "nbformat": 4,
 "nbformat_minor": 2
}
